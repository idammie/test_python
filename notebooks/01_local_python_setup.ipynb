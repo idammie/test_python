{
 "cells": [
  {
   "cell_type": "markdown",
   "metadata": {},
   "source": [
    "# PyTorch | Run course notebooks locally\n",
    "\n",
    "[![colab](https://colab.research.google.com/assets/colab-badge.svg)](https://colab.research.google.com/github/ac-willeke/pytorch-template/blob/main/notebooks/01_conservation_and_preservation.ipynb) [![github](https://img.shields.io/badge/GitHub-View%20on%20GitHub-blue?logo=github)](https://github.com/ac-willeke/pytorch-template/blob/main/notebooks/2024.01_conservation_and_preservation.ipynb)\n",
    "\n",
    "**Author**: Willeke A'Campo\n",
    "\n",
    "**Description:** \n",
    "\n",
    "This notebook demonstrates how you load models stored in classes and use them to make predictions. The notebook uses the course material from  the Udemy course: [Udemy | PyTorch for Deep Learning](https://www.udemy.com/course/pytorch-for-deep-learning-and-computer-vision/) as an example. \n",
    "\n",
    "- Combines information from `Perceptron.ipynb`and `Deep_Neural_Networks.ipynb` documented by @rslim087a [here](https://github.com/rslim087a/PyTorch-for-Deep-Learning-and-Computer-Vision-Course-All-Codes-).\n",
    "- Playground for PyTorch code snippets and examples [here](https://pytorch.org/tutorials/beginner/nn_tutorial.html).\n",
    "- Playground for Tensorflow Networkss [here](https://playground.tensorflow.org/).\n"
   ]
  },
  {
   "cell_type": "code",
   "execution_count": null,
   "metadata": {},
   "outputs": [],
   "source": []
  },
  {
   "cell_type": "code",
   "execution_count": 1,
   "metadata": {},
   "outputs": [],
   "source": [
    "%matplotlib inline\n",
    "import logging\n",
    "from pathlib import Path\n",
    "import numpy as np\n",
    "import torch\n",
    "from sklearn import datasets # test datasets"
   ]
  },
  {
   "cell_type": "code",
   "execution_count": 2,
   "metadata": {},
   "outputs": [],
   "source": [
    "# import local python scripts\n",
    "project_path= Path.cwd().parents[0]\n",
    "import src.decorators as dec  # noqa\n",
    "from src.logger import setup_logging  # noqa\n",
    "from src.config import load_catalog, load_parameters  # noqa\n",
    "\n",
    "from src.plot.scatter import scatter_plot, scatter_plot_3d\n",
    "from src.data.metadata import data_info\n",
    "from src.models import linearRegression"
   ]
  },
  {
   "cell_type": "markdown",
   "metadata": {},
   "source": [
    "## Prepare a test dataset"
   ]
  },
  {
   "cell_type": "markdown",
   "metadata": {},
   "source": [
    "**Choose which test dataset to use:**\n",
    "\n",
    "| Test | Description | Sample Size | Features | Labels |\n",
    "| --- | --- | --- | --- | --- |\n",
    "| 1 | Two clusters of data points | 100 | 2 | 0 or 1 |\n",
    "| 2 | Inner and outer circle of data points | 500 | 2 | 0 or 1 |\n",
    "| 3 | Two clusters of data points | 100 | 3 | 0 or 1 |"
   ]
  },
  {
   "cell_type": "code",
   "execution_count": null,
   "metadata": {},
   "outputs": [],
   "source": [
    "#test_data = input(\"Do you want to use test dataset 1, 2 or 3? Enter 1, 2 or 3..\")\n",
    "test_data = 3"
   ]
  },
  {
   "cell_type": "code",
   "execution_count": null,
   "metadata": {},
   "outputs": [],
   "source": [
    "if test_data == 1:\n",
    "    # TEST DATA 1 \n",
    "    # define center of the two clusters\n",
    "    centers = [[-0.5, 0.5], [0.5, -0.5]]\n",
    "\n",
    "    # create a dataset with 2 clusters\n",
    "    # X = dataset, y = labels\n",
    "    X, y = datasets.make_blobs(\n",
    "        n_samples=100, \n",
    "        random_state=999,\n",
    "        centers=centers, \n",
    "        cluster_std=0.4\n",
    "        )\n",
    "    data_info(X, y)\n",
    "    scatter_plot(X, y, 'Plot data clusters', 2)\n",
    "elif test_data == 2:\n",
    "    # TEST DATA 2\n",
    "    X, y = datasets.make_circles(\n",
    "    n_samples=500, \n",
    "    random_state=123, \n",
    "    noise=0.1, \n",
    "    factor=0.2)\n",
    "    data_info(X, y)\n",
    "    scatter_plot(X, y, 'Plot data clusters', 2)\n",
    "elif test_data == 3:\n",
    "    # TEST DATA 3 \n",
    "    # create 3D data with random values\n",
    "    # data = np.random.rand(100, 4, 2)\n",
    "\n",
    "    # create 3D data with 2 clusters \n",
    "    X, y = datasets.make_blobs(n_samples=100, centers=2, n_features=3, random_state=42)\n",
    "\n",
    "    # Create an empty 3D tensor\n",
    "    data = np.zeros((100, 4, 2))\n",
    "\n",
    "    # Place the first cluster in the first half of the tensor\n",
    "    data[:50, :3, 0] = X[y==0][:50]\n",
    "\n",
    "    # Place the second cluster in the second half of the tensor\n",
    "    data[50:, :3, 0] = X[y==1][:50]\n",
    "    X = data\n",
    "\n",
    "    # Create an empty label 1D tensor for the labels\n",
    "    y_new = np.zeros(100)\n",
    "    y_new[:50] = 0  # Labels for the first cluster\n",
    "    y_new[50:] = 1  # Labels for the second cluster\n",
    "    y = y_new\n",
    "\n",
    "    data_info(X, y)\n",
    "    scatter_plot_3d(X, y, '3D scatter plot of 2 clusters', 2)\n",
    "\n",
    "else:\n",
    "    print(\"Invalid input. Please enter 1 or 2.\")\n",
    "    exit()"
   ]
  },
  {
   "cell_type": "markdown",
   "metadata": {},
   "source": [
    "**Convert data into a PyTorch tensor**\n",
    "\n",
    "Ensure that X (data) and y (labels) have the same shape. In this case that they are both 2D-arrays (tensors).\n",
    "\n",
    "**Tensor**: In PyTorch, a tensor is the main data structure. It is a multi-dimensional matrix containing elements of a single data type (float, int, etc.). Tensors are similar to arrays in Numpy. These tensors are used to feed data into the model, store model parameters, and store the model output."
   ]
  },
  {
   "cell_type": "code",
   "execution_count": null,
   "metadata": {},
   "outputs": [],
   "source": [
    "# convert data to tensor\n",
    "x_data = torch.tensor(X, dtype=torch.float32) \n",
    "\n",
    "# reshape y to 2D tensor \n",
    "# (100,) -> (100,1)\n",
    "y_data = torch.tensor(y.reshape(y.shape[0],1), dtype=torch.int64) # ensure that the labels are integers\n",
    "\n",
    "data_info(x_data, y_data)"
   ]
  },
  {
   "cell_type": "markdown",
   "metadata": {},
   "source": [
    "## Load the model\n",
    "\n",
    "Here we load a linear model located in `src/models/linearRegression.py`\n"
   ]
  },
  {
   "cell_type": "code",
   "execution_count": null,
   "metadata": {},
   "outputs": [],
   "source": [
    "torch.manual_seed(2)\n",
    "model = linearRegression.Model(2, 1)\n",
    "print(list(model.parameters()))"
   ]
  },
  {
   "cell_type": "markdown",
   "metadata": {},
   "source": [
    "**back propagation**: the process of updating the weights of the model to minimize the loss function.\n"
   ]
  }
 ],
 "metadata": {
  "kernelspec": {
   "display_name": "pytorch-template--7hcIlxc-py3.10",
   "language": "python",
   "name": "python3"
  },
  "language_info": {
   "codemirror_mode": {
    "name": "ipython",
    "version": 3
   },
   "file_extension": ".py",
   "mimetype": "text/x-python",
   "name": "python",
   "nbconvert_exporter": "python",
   "pygments_lexer": "ipython3",
   "version": "3.10.12"
  }
 },
 "nbformat": 4,
 "nbformat_minor": 2
}
